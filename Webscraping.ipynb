{
 "cells": [
  {
   "cell_type": "markdown",
   "metadata": {},
   "source": [
    "# Question 1"
   ]
  },
  {
   "cell_type": "code",
   "execution_count": 9,
   "metadata": {},
   "outputs": [
    {
     "name": "stdout",
     "output_type": "stream",
     "text": [
      "                       Date      Open      High       Low     Close  \\\n",
      "0 2010-06-29 00:00:00-04:00  1.266667  1.666667  1.169333  1.592667   \n",
      "1 2010-06-30 00:00:00-04:00  1.719333  2.028000  1.553333  1.588667   \n",
      "2 2010-07-01 00:00:00-04:00  1.666667  1.728000  1.351333  1.464000   \n",
      "3 2010-07-02 00:00:00-04:00  1.533333  1.540000  1.247333  1.280000   \n",
      "4 2010-07-06 00:00:00-04:00  1.333333  1.333333  1.055333  1.074000   \n",
      "\n",
      "      Volume  Dividends  Stock Splits  \n",
      "0  281494500        0.0           0.0  \n",
      "1  257806500        0.0           0.0  \n",
      "2  123282000        0.0           0.0  \n",
      "3   77097000        0.0           0.0  \n",
      "4  103003500        0.0           0.0  \n"
     ]
    }
   ],
   "source": [
    "import yfinance as yf\n",
    "\n",
    "tesla = yf.Ticker(\"TSLA\")\n",
    "tesla_data = tesla.history(period=\"max\")\n",
    "tesla_data.reset_index(inplace=True)\n",
    "print(tesla_data.head())"
   ]
  },
  {
   "cell_type": "markdown",
   "metadata": {},
   "source": [
    "# Question 2"
   ]
  },
  {
   "cell_type": "code",
   "execution_count": 11,
   "metadata": {},
   "outputs": [
    {
     "name": "stdout",
     "output_type": "stream",
     "text": [
      "Tesla Stock Price: 6,091.73\n",
      "Price Change: +39.76\n",
      "Percent Change: +5.27%\n"
     ]
    }
   ],
   "source": [
    "import requests\n",
    "from bs4 import BeautifulSoup\n",
    "\n",
    "# Yahoo Finance URL\n",
    "url = \"https://finance.yahoo.com/quote/TSLA/?fr=sycsrp_catchall\"\n",
    "\n",
    "# Send a GET request\n",
    "response = requests.get(url)\n",
    "soup = BeautifulSoup(response.content, \"html.parser\")\n",
    "\n",
    "# Find the specific elements on the page\n",
    "price = soup.find(\"fin-streamer\", {\"data-field\": \"regularMarketPrice\"}).text\n",
    "change = soup.find(\"fin-streamer\", {\"data-field\": \"regularMarketChange\"}).text\n",
    "percent_change = soup.find(\"fin-streamer\", {\"data-field\": \"regularMarketChangePercent\"}).text\n",
    "\n",
    "# Output the results\n",
    "print(\"Tesla Stock Price:\", price)\n",
    "print(\"Price Change:\", change)\n",
    "print(\"Percent Change:\", percent_change)"
   ]
  },
  {
   "cell_type": "markdown",
   "metadata": {},
   "source": [
    "# Question 3"
   ]
  },
  {
   "cell_type": "code",
   "execution_count": 12,
   "metadata": {},
   "outputs": [
    {
     "name": "stdout",
     "output_type": "stream",
     "text": [
      "GameStop Stock Price: 26.17\n",
      "Price Change: 0.18000000000000327\n",
      "Percent Change: 0.69%\n"
     ]
    }
   ],
   "source": [
    "import yfinance as yf\n",
    "\n",
    "# Initialize the GameStop ticker object\n",
    "ticker = yf.Ticker(\"GME\")\n",
    "\n",
    "# Fetch current stock data\n",
    "info = ticker.info  # This contains all the general stock info\n",
    "\n",
    "# Extract relevant data\n",
    "current_price = info[\"currentPrice\"]\n",
    "previous_close = info[\"regularMarketPreviousClose\"]\n",
    "price_change = current_price - previous_close\n",
    "percent_change = (price_change / previous_close) * 100\n",
    "\n",
    "# Output the results\n",
    "print(\"GameStop Stock Price:\", current_price)\n",
    "print(\"Price Change:\", price_change)\n",
    "print(f\"Percent Change: {percent_change:.2f}%\")"
   ]
  },
  {
   "cell_type": "markdown",
   "metadata": {},
   "source": [
    "# Question 4"
   ]
  },
  {
   "cell_type": "code",
   "execution_count": 16,
   "metadata": {},
   "outputs": [
    {
     "name": "stdout",
     "output_type": "stream",
     "text": [
      "GameStop Stock Price: 26.0958\n",
      "Price Change: 0.10580000000000211\n",
      "Percent Change: 0.41%\n"
     ]
    }
   ],
   "source": [
    "import yfinance as yf\n",
    "\n",
    "# Initialize the GameStop ticker object\n",
    "ticker = yf.Ticker(\"GME\")\n",
    "\n",
    "# Fetch current stock data\n",
    "info = ticker.info  # This contains all the general stock info\n",
    "\n",
    "# Extract relevant data\n",
    "current_price = info[\"currentPrice\"]\n",
    "previous_close = info[\"regularMarketPreviousClose\"]\n",
    "price_change = current_price - previous_close\n",
    "percent_change = (price_change / previous_close) * 100\n",
    "\n",
    "# Output the results\n",
    "print(\"GameStop Stock Price:\", current_price)\n",
    "print(\"Price Change:\", price_change)\n",
    "print(f\"Percent Change: {percent_change:.2f}%\")"
   ]
  },
  {
   "cell_type": "markdown",
   "metadata": {},
   "source": [
    "# Question 5"
   ]
  },
  {
   "cell_type": "code",
   "execution_count": 18,
   "metadata": {},
   "outputs": [
    {
     "name": "stdout",
     "output_type": "stream",
     "text": [
      "Tesla Stock Price: 351.695\n",
      "Price Change: 15.185000000000002\n",
      "Percent Change: 4.51%\n",
      "\n",
      "Sample Historical Data:\n",
      "                                 Open        High         Low       Close  \\\n",
      "Date                                                                        \n",
      "2024-02-13 00:00:00-05:00  183.990005  187.259995  182.110001  184.020004   \n",
      "2024-02-14 00:00:00-05:00  185.300003  188.889999  183.350006  188.710007   \n",
      "2024-02-15 00:00:00-05:00  189.160004  200.880005  188.860001  200.449997   \n",
      "2024-02-16 00:00:00-05:00  202.059998  203.169998  197.399994  199.949997   \n",
      "2024-02-20 00:00:00-05:00  196.130005  198.600006  189.130005  193.759995   \n",
      "\n",
      "                              Volume  Dividends  Stock Splits  \n",
      "Date                                                           \n",
      "2024-02-13 00:00:00-05:00   86759500        0.0           0.0  \n",
      "2024-02-14 00:00:00-05:00   81203000        0.0           0.0  \n",
      "2024-02-15 00:00:00-05:00  120831800        0.0           0.0  \n",
      "2024-02-16 00:00:00-05:00  111173600        0.0           0.0  \n",
      "2024-02-20 00:00:00-05:00  104545800        0.0           0.0  \n"
     ]
    }
   ],
   "source": [
    "import yfinance as yf\n",
    "\n",
    "# Initialize the Tesla ticker object\n",
    "ticker = yf.Ticker(\"TSLA\")\n",
    "\n",
    "# Fetch current stock data\n",
    "info = ticker.info  # Contains all general stock information\n",
    "\n",
    "# Extract relevant stock data\n",
    "current_price = info[\"currentPrice\"]\n",
    "previous_close = info[\"regularMarketPreviousClose\"]\n",
    "price_change = current_price - previous_close\n",
    "percent_change = (price_change / previous_close) * 100\n",
    "\n",
    "# Output the results\n",
    "print(\"Tesla Stock Price:\", current_price)\n",
    "print(\"Price Change:\", price_change)\n",
    "print(f\"Percent Change: {percent_change:.2f}%\")\n",
    "\n",
    "# Fetch historical data for visualization (optional)\n",
    "historical_data = ticker.history(period=\"1y\")  # Last 1 year of data\n",
    "print(\"\\nSample Historical Data:\")\n",
    "print(historical_data.head())"
   ]
  },
  {
   "cell_type": "markdown",
   "metadata": {},
   "source": [
    "# Question 6"
   ]
  },
  {
   "cell_type": "code",
   "execution_count": 1,
   "metadata": {},
   "outputs": [
    {
     "name": "stdout",
     "output_type": "stream",
     "text": [
      "GameStop Stock Price: 26.1587\n",
      "Price Change: 0.16870000000000118\n",
      "Percent Change: 0.65%\n",
      "\n",
      "Sample Historical Data:\n",
      "                            Open   High    Low  Close   Volume  Dividends  \\\n",
      "Date                                                                        \n",
      "2024-02-13 00:00:00-05:00  14.20  14.40  13.77  14.17  3788700        0.0   \n",
      "2024-02-14 00:00:00-05:00  14.33  14.43  14.05  14.41  2504400        0.0   \n",
      "2024-02-15 00:00:00-05:00  14.54  14.75  14.23  14.51  2400500        0.0   \n",
      "2024-02-16 00:00:00-05:00  14.46  14.53  14.10  14.12  2297200        0.0   \n",
      "2024-02-20 00:00:00-05:00  13.96  14.05  13.16  13.49  3784500        0.0   \n",
      "\n",
      "                           Stock Splits  \n",
      "Date                                     \n",
      "2024-02-13 00:00:00-05:00           0.0  \n",
      "2024-02-14 00:00:00-05:00           0.0  \n",
      "2024-02-15 00:00:00-05:00           0.0  \n",
      "2024-02-16 00:00:00-05:00           0.0  \n",
      "2024-02-20 00:00:00-05:00           0.0  \n"
     ]
    }
   ],
   "source": [
    "import yfinance as yf\n",
    "\n",
    "# Initialize the GameStop ticker object\n",
    "ticker = yf.Ticker(\"GME\")\n",
    "\n",
    "# Fetch current stock data\n",
    "info = ticker.info  # Contains all general stock information\n",
    "\n",
    "# Extract relevant stock data\n",
    "current_price = info[\"currentPrice\"]\n",
    "previous_close = info[\"regularMarketPreviousClose\"]\n",
    "price_change = current_price - previous_close\n",
    "percent_change = (price_change / previous_close) * 100\n",
    "\n",
    "# Output the results\n",
    "print(\"GameStop Stock Price:\", current_price)\n",
    "print(\"Price Change:\", price_change)\n",
    "print(f\"Percent Change: {percent_change:.2f}%\")\n",
    "\n",
    "# Fetch historical data for visualization (optional)\n",
    "historical_data = ticker.history(period=\"1y\")  # Last 1 year of data\n",
    "print(\"\\nSample Historical Data:\")\n",
    "print(historical_data.head())"
   ]
  },
  {
   "cell_type": "code",
   "execution_count": null,
   "metadata": {},
   "outputs": [],
   "source": []
  }
 ],
 "metadata": {
  "kernelspec": {
   "display_name": "Python 3",
   "language": "python",
   "name": "python3"
  },
  "language_info": {
   "codemirror_mode": {
    "name": "ipython",
    "version": 3
   },
   "file_extension": ".py",
   "mimetype": "text/x-python",
   "name": "python",
   "nbconvert_exporter": "python",
   "pygments_lexer": "ipython3",
   "version": "3.13.1"
  }
 },
 "nbformat": 4,
 "nbformat_minor": 2
}
